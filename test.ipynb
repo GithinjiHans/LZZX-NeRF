{
 "cells": [
  {
   "cell_type": "markdown",
   "metadata": {},
   "source": [
    "# 一、运行此镜像\n"
   ]
  },
  {
   "cell_type": "code",
   "execution_count": null,
   "metadata": {
    "id": "LMIpU4kXLSRa"
   },
   "outputs": [],
   "source": [
    "#  直接在AutoDL中打开此镜像，依赖已经安装好，权重也下载了，还训练了两个个demo，一个叫langlang，一个叫nana\n",
    "#  建议在终端运行代码。\n",
    "#  建议在终端运行代码。\n",
    "#  建议在终端运行代码。"
   ]
  },
  {
   "cell_type": "markdown",
   "metadata": {},
   "source": [
    "# 二、准备自己的训练数据\n"
   ]
  },
  {
   "cell_type": "code",
   "execution_count": null,
   "metadata": {
    "colab": {
     "base_uri": "https://localhost:8080/"
    },
    "id": "mO301XjLGEjY",
    "outputId": "551b885c-b512-4061-f33f-5787ad24288e"
   },
   "outputs": [],
   "source": [
    "# 1、拍摄高清训练视频2-5分钟。\n",
    "# 2、最好是绿幕背景，方便抠像，方便裁剪，方便后期拼接。\n",
    "# 3、模特头部动作不能太大。\n",
    "# 4、正常说话，随意说点什么就行，不要一直数数。\n",
    "# 5、女生把头扎起来，男生不要有胡须。\n",
    "# 6、用ffmpeg代码进行视频预处理，视频截取肩膀以上，大小512X512p，视频为25帧率，音频16000赫兹。\n",
    "# 7、获取au.csv,并将视频和au.csv一同上传到data文件夹下的一个带名字的文件夹下。 如：data/nana/nana.mp4 \n",
    "# 8、一定要记住训练视频从原视频裁剪下来得第一个像素点位置，方便后面进行视频拼接。"
   ]
  },
  {
   "cell_type": "markdown",
   "metadata": {},
   "source": [
    "# 三、处理自己的数据集\n"
   ]
  },
  {
   "cell_type": "code",
   "execution_count": null,
   "metadata": {
    "id": "DxNpUMQLnsMc"
   },
   "outputs": [],
   "source": [
    "# 1、视频数据处理之一 \n",
    "cd /root/LZZX-NeRF\n",
    "python data_utils/process.py /root/LZZX-NeRF/data/nana/nana.mp4\n",
    "# python data_utils/process.py /root/LZZX-NeRF/data/langlang/langlang.mp4"
   ]
  },
  {
   "cell_type": "code",
   "execution_count": null,
   "metadata": {
    "id": "hLpa3nxWLCrP"
   },
   "outputs": [],
   "source": [
    "# 2、视频数据处理之二 \n",
    "# 眨眼数据处理\n",
    "# Obtain AU45 for eyes blinking\n",
    "# 获取眨眼 FeatureExtraction在OpenFace运行中，重新命名输出CSV文件并将其移动到data/langlang/au.csv\n",
    "# 可以下载OpenFace并运行，生成.csv文件"
   ]
  },
  {
   "cell_type": "code",
   "execution_count": null,
   "metadata": {
    "id": "OdAqBWQ7LYl8"
   },
   "outputs": [],
   "source": [
    "# 3、音频数据处理 : HuBERT\n",
    "# # Borrowed from GeneFace. English pre-trained.\n",
    "cd /root/LZZX-NeRF\n",
    "python data_utils/hubert.py --wav data/nana/aud.wav\n",
    "# python data_utils/hubert.py --wav data/langlang/aud.wav"
   ]
  },
  {
   "cell_type": "markdown",
   "metadata": {},
   "source": [
    "# 四、训练自己的模型\n"
   ]
  },
  {
   "cell_type": "code",
   "execution_count": null,
   "metadata": {
    "colab": {
     "base_uri": "https://localhost:8080/"
    },
    "executionInfo": {
     "elapsed": 1247029,
     "status": "ok",
     "timestamp": 1698209174861,
     "user": {
      "displayName": "ba ba",
      "userId": "00513101234799394381"
     },
     "user_tz": -480
    },
    "id": "XX8nbNMZnsSA",
    "outputId": "42cc21da-9b91-46c5-cb31-1507c7a3c890"
   },
   "outputs": [],
   "source": [
    "# 1、训练头部 train head ，建议训练总步数的一半。\n",
    "cd /root/LZZX-NeRF\n",
    "python main.py data/nana/ --workspace trial_nana/ -O --iters 100000 --asr_model hubert\n",
    "# python main.py data/langlang/ --workspace trial_langlang/ -O --iters 100000 --asr_model hubert"
   ]
  },
  {
   "cell_type": "code",
   "execution_count": null,
   "metadata": {
    "id": "FxZm24DALDVU"
   },
   "outputs": [],
   "source": [
    "# 2、训练嘴型  lpips finetune\n",
    "# cd /root/LZZX-NeRF\n",
    "python main.py data/nana/ --workspace trial_nana/ -O --iters 125000 --finetune_lips --patch_size 32  --asr_model hubert\n",
    "# python main.py data/langlang/ --workspace trial_langlang/ -O --iters 125000 --finetune_lips --patch_size 32  --asr_model hubert"
   ]
  },
  {
   "cell_type": "code",
   "execution_count": null,
   "metadata": {
    "id": "LnuEyXQOLDYJ"
   },
   "outputs": [],
   "source": [
    "# # 训练身体 train (torso),根据需要进行训练,我建议不用训练。\n",
    "# cd /root/LZZX-NeRF\n",
    "# # python main.py data/nana/ --workspace trial_nana_torso/ -O --torso --head_ckpt trial_nana/checkpoints/ngp_ep0085.pth --iters 200000  --asr_model hubert\n",
    "# # python main.py data/langlang/ --workspace trial_langlang_torso/ -O --torso --head_ckpt trial_langlang/checkpoints/ngp_ep0085.pth --iters 200000  --asr_model hubert"
   ]
  },
  {
   "cell_type": "markdown",
   "metadata": {},
   "source": [
    "# 五、用自己训练的模型进行推理"
   ]
  },
  {
   "cell_type": "code",
   "execution_count": null,
   "metadata": {
    "id": "LLfvdOPCnsUD"
   },
   "outputs": [],
   "source": [
    "# # 1、先处理音频HUbert ,推理之前将音频转成16000赫兹，然后在用HUbert处理。\n",
    "# ffmpeg -i /root/LZZX-NeRF/data/nana/demo000.mp3  /root/LZZX-NeRF/data/nana/demo000.wav\n",
    "# python data_utils/hubert.py --wav data/nana/demo000.wav"
   ]
  },
  {
   "cell_type": "code",
   "execution_count": null,
   "metadata": {
    "id": "SLpnKWhrDfu5"
   },
   "outputs": [],
   "source": [
    "# 2、再加载训练后的权重进行推理，只驱动头部，身体直接拼接即可。\n",
    "cd /root/LZZX-NeRF\n",
    "python main.py  data/nana/ --workspace trial_nana/ -O --test --test_train  --aud  data/nana/demo000_hu.npy   --smooth_path  --asr_model hubert\n",
    "# python main.py  data/langlang/ --workspace trial_langlang/ -O --test --test_train  --aud  data/langlang/test003_hu.npy   --smooth_path  --asr_model hubert\n",
    "# # 源码作者的音视频合成"
   ]
  },
  {
   "cell_type": "code",
   "execution_count": null,
   "metadata": {},
   "outputs": [],
   "source": [
    "# # 3、根据实际情况裁剪推理后的视频（如果分割得很好，就不需要执行这一步）。\n",
    "# cd /root/LZZX-NeRF\n",
    "# ffmpeg -i /root/generate-mp4/20231226075513.mp4   -vf  crop=512:400:0:0   /root/generate-mp4/temp.mp4"
   ]
  },
  {
   "cell_type": "code",
   "execution_count": null,
   "metadata": {},
   "outputs": [],
   "source": [
    "# # 4、将推理后得视频拼接回原视频中去。（一定要记住视频得切割点，还要输入音频时长，否则拼接后对不齐）\n",
    "# cd /root/LZZX-NeRF\n",
    "# ffmpeg -ss 00:00:00    -i  /root/LZZX-NeRF/data/nana/280-300.mp4  -i  /root/generate-mp4/temp.mp4 -filter_complex \"[0:v][1:v]overlay=280:300\"  -t 25  -map 1:a -c:a copy  /root/generate-mp4/output.mp4"
   ]
  },
  {
   "cell_type": "markdown",
   "metadata": {},
   "source": [
    "# 六、WEBUI推理\n"
   ]
  },
  {
   "cell_type": "code",
   "execution_count": null,
   "metadata": {
    "id": "zHkXn-FFDxu4",
    "tags": []
   },
   "outputs": [
    {
     "name": "stdout",
     "output_type": "stream",
     "text": [
      "/root/LZZX-NeRF\n",
      "参数：Namespace(autodl_url='http://localhost:6006/', base_path='/root/LZZX-NeRF/')\n",
      "nginx: [emerg] bind() to 0.0.0.0:1935 failed (98: Address already in use)\n",
      "nginx: [emerg] bind() to 0.0.0.0:6006 failed (98: Address already in use)\n",
      "webui访问地址：http://localhost:6006/\n",
      "Running on local URL:  http://127.0.0.1:7860\n",
      "\n",
      "To create a public link, set `share=True` in `launch()`.\n",
      "存储音频文件...\n",
      "存储音频文件完成.\n",
      "音频存储文件：/root/input/nana/17048551808289697.wav\n",
      "音频预处理开始...\n",
      "进行中...\n",
      "音频处理cmd：python data_utils/hubert.py --wav /root/input/nana/17048551808289697.wav\n",
      "SR: 24000 to 16000\n",
      "(4055, 2, 1024)\n",
      "音频预处理完成.\n",
      "准备执行推理...\n",
      "推理命令：python main.py ./data/nana --workspace trial_nana  -O  --test --test_train --aud /root/input/nana/17048551808289697_hu.npy --smooth_path --fps 25 --asr_model hubert \n",
      "进行中...\n",
      "Namespace(H=450, O=True, W=450, amb_aud_loss=1, amb_dim=2, amb_eye_loss=1, asr=False, asr_model='hubert', asr_play=False, asr_save_feats=False, asr_wav='', att=2, aud='/root/input/nana/17048551808289697_hu.npy', bg_img='', bound=1, ckpt='latest', color_space='srgb', cuda_ray=True, data_range=[0, -1], density_thresh=10, density_thresh_torso=0.01, dt_gamma=0.00390625, emb=False, exp_eye=True, fbg=False, finetune_lips=False, fix_eye=-1, fovy=21.24, fp16=True, fps=25, gui=False, head_ckpt='', ind_dim=4, ind_dim_torso=8, ind_num=10000, init_lips=False, iters=200000, l=10, lambda_amb=0.0001, lr=0.01, lr_net=0.001, m=50, max_ray_batch=4096, max_spp=1, max_steps=16, min_near=0.05, num_rays=65536, num_steps=16, offset=[0, 0, 0], part=False, part2=False, patch_size=1, path='./data/nana', preload=0, r=10, radius=3.35, scale=4, seed=0, smooth_eye=False, smooth_lips=False, smooth_path=True, smooth_path_window=11, test=True, test_train=True, torso=False, torso_shrink=0.8, train_camera=False, unc_loss=1, update_extra_interval=16, upsample_steps=0, warmup_step=10000, workspace='trial_nana')\n",
      "Setting up [LPIPS] perceptual loss: trunk [alex], v[0.1], spatial [off]\n",
      "Loading model from: /root/miniconda3/lib/python3.8/site-packages/lpips/weights/v0.1/alex.pth\n",
      "Setting up [LPIPS] perceptual loss: trunk [alex], v[0.1], spatial [off]\n",
      "Loading model from: /root/miniconda3/lib/python3.8/site-packages/lpips/weights/v0.1/alex.pth\n",
      "[INFO] Trainer: ngp | 2024-01-10_10-53-20 | cuda | fp16 | trial_nana\n",
      "[INFO] #parameters: 683509\n",
      "[INFO] Loading latest checkpoint ...\n",
      "[INFO] Latest checkpoint is trial_nana/checkpoints/ngp_ep0093.pth\n",
      "[INFO] loaded model.\n",
      "[INFO] load at epoch 93, global step 125550\n",
      "[WARN] Failed to load optimizer.\n",
      "[INFO] loaded scheduler.\n",
      "[INFO] loaded scaler.\n",
      "[INFO] load 1350 train frames.\n",
      "[INFO] load /root/input/nana/17048551808289697_hu.npy aud_features: torch.Size([4055, 1024, 2])\n",
      "[INFO] eye_area: 0.0 - 1.0\n",
      "==> Start Test, save results to trial_nana/results\n"
     ]
    }
   ],
   "source": [
    "# 启动webui界面，训练好模型后也可以直接启动界面进行推理\n",
    "%cd /root/LZZX-NeRF\n",
    "!python main-webui.py --autodl_url http://localhost:6006/\n",
    "#!python main-webui.py --autodl_url http://u235859-a353-4b2d15c1.westb.seetacloud.com:8443/"
   ]
  },
  {
   "cell_type": "code",
   "execution_count": null,
   "metadata": {
    "id": "7sfp7gAYqcxq"
   },
   "outputs": [],
   "source": []
  }
 ],
 "metadata": {
  "accelerator": "GPU",
  "colab": {
   "provenance": [
    {
     "file_id": "1bY0Kw2oWWrpKS6ne-TBCbW-iFyXIrRR7",
     "timestamp": 1680665453952
    }
   ]
  },
  "kernelspec": {
   "display_name": "Python 3 (ipykernel)",
   "language": "python",
   "name": "python3"
  },
  "language_info": {
   "codemirror_mode": {
    "name": "ipython",
    "version": 3
   },
   "file_extension": ".py",
   "mimetype": "text/x-python",
   "name": "python",
   "nbconvert_exporter": "python",
   "pygments_lexer": "ipython3",
   "version": "3.8.10"
  }
 },
 "nbformat": 4,
 "nbformat_minor": 4
}
